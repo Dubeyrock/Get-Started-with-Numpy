{
  "nbformat": 4,
  "nbformat_minor": 0,
  "metadata": {
    "colab": {
      "provenance": [],
      "authorship_tag": "ABX9TyMdGNlI4LURUeAjCCZEjdIf",
      "include_colab_link": true
    },
    "kernelspec": {
      "name": "python3",
      "display_name": "Python 3"
    },
    "language_info": {
      "name": "python"
    }
  },
  "cells": [
    {
      "cell_type": "markdown",
      "metadata": {
        "id": "view-in-github",
        "colab_type": "text"
      },
      "source": [
        "<a href=\"https://colab.research.google.com/github/Dubeyrock/Get-Started-with-Numpy/blob/main/Getting_started_with_Numpy_.ipynb\" target=\"_parent\"><img src=\"https://colab.research.google.com/assets/colab-badge.svg\" alt=\"Open In Colab\"/></a>"
      ]
    },
    {
      "cell_type": "code",
      "execution_count": 1,
      "metadata": {
        "colab": {
          "base_uri": "https://localhost:8080/"
        },
        "id": "0MLCtlh-4zoq",
        "outputId": "04c8f666-1eac-4179-8dbc-95c21ba79ce7"
      },
      "outputs": [
        {
          "output_type": "stream",
          "name": "stdout",
          "text": [
            "Requirement already satisfied: numpy in /usr/local/lib/python3.10/dist-packages (1.23.5)\n"
          ]
        }
      ],
      "source": [
        "! pip install numpy"
      ]
    },
    {
      "cell_type": "code",
      "source": [
        "import numpy as np"
      ],
      "metadata": {
        "id": "se0c-BUb7Ofy"
      },
      "execution_count": 2,
      "outputs": []
    },
    {
      "cell_type": "code",
      "source": [
        "np"
      ],
      "metadata": {
        "colab": {
          "base_uri": "https://localhost:8080/"
        },
        "id": "Z4wDX3Jp7Vid",
        "outputId": "3ded2ada-257e-46fa-b526-17297f6eacf9"
      },
      "execution_count": 3,
      "outputs": [
        {
          "output_type": "execute_result",
          "data": {
            "text/plain": [
              "<module 'numpy' from '/usr/local/lib/python3.10/dist-packages/numpy/__init__.py'>"
            ]
          },
          "metadata": {},
          "execution_count": 3
        }
      ]
    },
    {
      "cell_type": "code",
      "source": [
        "lst =[1,5,6]"
      ],
      "metadata": {
        "id": "S-8Mg-BN7Zi0"
      },
      "execution_count": 4,
      "outputs": []
    },
    {
      "cell_type": "code",
      "source": [
        "type(lst)"
      ],
      "metadata": {
        "colab": {
          "base_uri": "https://localhost:8080/"
        },
        "id": "xdIDA8nU7df5",
        "outputId": "a6a95c52-a9d2-40e1-f859-dc8bfe2b223d"
      },
      "execution_count": 5,
      "outputs": [
        {
          "output_type": "execute_result",
          "data": {
            "text/plain": [
              "list"
            ]
          },
          "metadata": {},
          "execution_count": 5
        }
      ]
    },
    {
      "cell_type": "code",
      "source": [
        "arr = np.array(lst)"
      ],
      "metadata": {
        "id": "bv35aN8_7lxH"
      },
      "execution_count": 6,
      "outputs": []
    },
    {
      "cell_type": "code",
      "source": [
        "arr"
      ],
      "metadata": {
        "colab": {
          "base_uri": "https://localhost:8080/"
        },
        "id": "cz8L7Mlk7rXQ",
        "outputId": "051f1021-d2b5-45ce-8a43-77bf521c8585"
      },
      "execution_count": 7,
      "outputs": [
        {
          "output_type": "execute_result",
          "data": {
            "text/plain": [
              "array([1, 5, 6])"
            ]
          },
          "metadata": {},
          "execution_count": 7
        }
      ]
    },
    {
      "cell_type": "code",
      "source": [
        "type(arr)"
      ],
      "metadata": {
        "colab": {
          "base_uri": "https://localhost:8080/"
        },
        "id": "U106Emkz7uxS",
        "outputId": "9fba1624-cd2a-4a43-d99d-c6c3f6c8da2a"
      },
      "execution_count": 8,
      "outputs": [
        {
          "output_type": "execute_result",
          "data": {
            "text/plain": [
              "numpy.ndarray"
            ]
          },
          "metadata": {},
          "execution_count": 8
        }
      ]
    },
    {
      "cell_type": "code",
      "source": [
        "import numpy as np\n",
        "\n",
        "# Create a NumPy array for demonstration\n",
        "arr = np.array([[1, 2, 3], [4, 5, 6]])\n",
        "\n",
        "# Get the number of dimensions\n",
        "num_dimensions = arr.ndim\n",
        "\n",
        "# Print the number of dimensions\n",
        "print(\"Number of dimensions:\", num_dimensions)\n"
      ],
      "metadata": {
        "colab": {
          "base_uri": "https://localhost:8080/"
        },
        "id": "L13aybPT7ycI",
        "outputId": "0d7e21bc-21c8-4c5b-c36e-1f3c7473a3af"
      },
      "execution_count": 12,
      "outputs": [
        {
          "output_type": "stream",
          "name": "stdout",
          "text": [
            "Number of dimensions: 2\n"
          ]
        }
      ]
    },
    {
      "cell_type": "code",
      "source": [
        "arr.ndim"
      ],
      "metadata": {
        "colab": {
          "base_uri": "https://localhost:8080/"
        },
        "id": "oqn1gkCd82Vc",
        "outputId": "d2c40b88-97ab-4d0f-d39d-e8e4238a972c"
      },
      "execution_count": 13,
      "outputs": [
        {
          "output_type": "execute_result",
          "data": {
            "text/plain": [
              "2"
            ]
          },
          "metadata": {},
          "execution_count": 13
        }
      ]
    },
    {
      "cell_type": "code",
      "source": [
        "arr.shape"
      ],
      "metadata": {
        "colab": {
          "base_uri": "https://localhost:8080/"
        },
        "id": "ry77D7q288sd",
        "outputId": "8b3aff2d-ef6a-4e79-c277-3e37c930ca22"
      },
      "execution_count": 14,
      "outputs": [
        {
          "output_type": "execute_result",
          "data": {
            "text/plain": [
              "(2, 3)"
            ]
          },
          "metadata": {},
          "execution_count": 14
        }
      ]
    },
    {
      "cell_type": "code",
      "source": [
        "arr.size"
      ],
      "metadata": {
        "colab": {
          "base_uri": "https://localhost:8080/"
        },
        "id": "6n06cTJx9GkY",
        "outputId": "b9854885-1fb1-49ce-c08a-c4ba7a9d9fe8"
      },
      "execution_count": 15,
      "outputs": [
        {
          "output_type": "execute_result",
          "data": {
            "text/plain": [
              "6"
            ]
          },
          "metadata": {},
          "execution_count": 15
        }
      ]
    },
    {
      "cell_type": "code",
      "source": [
        "arr.dtype"
      ],
      "metadata": {
        "colab": {
          "base_uri": "https://localhost:8080/"
        },
        "id": "sXCfvFCY9ObJ",
        "outputId": "264831e4-ab96-4d00-e5d1-4ba9c5ada13a"
      },
      "execution_count": 16,
      "outputs": [
        {
          "output_type": "execute_result",
          "data": {
            "text/plain": [
              "dtype('int64')"
            ]
          },
          "metadata": {},
          "execution_count": 16
        }
      ]
    },
    {
      "cell_type": "code",
      "source": [
        "np.zeros = np.zeros((3,5))"
      ],
      "metadata": {
        "id": "-677BiGw9TzW"
      },
      "execution_count": 20,
      "outputs": []
    },
    {
      "cell_type": "code",
      "source": [
        "import numpy as np\n",
        "\n",
        "zeros = np.zeros((3, 5))\n",
        "\n",
        "print(zeros)\n"
      ],
      "metadata": {
        "colab": {
          "base_uri": "https://localhost:8080/"
        },
        "id": "qUNuFEy89jnH",
        "outputId": "dc2c49a5-80de-48cb-d6a9-52fa4f21ecf2"
      },
      "execution_count": 22,
      "outputs": [
        {
          "output_type": "stream",
          "name": "stdout",
          "text": [
            "[[0. 0. 0. 0. 0.]\n",
            " [0. 0. 0. 0. 0.]\n",
            " [0. 0. 0. 0. 0.]]\n"
          ]
        }
      ]
    },
    {
      "cell_type": "code",
      "source": [
        "ones = np.ones((6,8))"
      ],
      "metadata": {
        "id": "iYdmRGfV-ZdW"
      },
      "execution_count": 23,
      "outputs": []
    },
    {
      "cell_type": "code",
      "source": [
        "ones"
      ],
      "metadata": {
        "colab": {
          "base_uri": "https://localhost:8080/"
        },
        "id": "F4Er0Lnp-q_l",
        "outputId": "aa2a2ffa-4912-420e-9ddc-42d410ea8dd8"
      },
      "execution_count": 24,
      "outputs": [
        {
          "output_type": "execute_result",
          "data": {
            "text/plain": [
              "array([[1., 1., 1., 1., 1., 1., 1., 1.],\n",
              "       [1., 1., 1., 1., 1., 1., 1., 1.],\n",
              "       [1., 1., 1., 1., 1., 1., 1., 1.],\n",
              "       [1., 1., 1., 1., 1., 1., 1., 1.],\n",
              "       [1., 1., 1., 1., 1., 1., 1., 1.],\n",
              "       [1., 1., 1., 1., 1., 1., 1., 1.]])"
            ]
          },
          "metadata": {},
          "execution_count": 24
        }
      ]
    },
    {
      "cell_type": "markdown",
      "source": [
        "Reshape and Random Number Generator"
      ],
      "metadata": {
        "id": "0zmjMe4E-03J"
      }
    },
    {
      "cell_type": "code",
      "source": [
        "import numpy as np"
      ],
      "metadata": {
        "id": "r-BNNGYD--Vn"
      },
      "execution_count": 25,
      "outputs": []
    },
    {
      "cell_type": "code",
      "source": [
        "np.random.random((3,3))"
      ],
      "metadata": {
        "colab": {
          "base_uri": "https://localhost:8080/"
        },
        "id": "M7sqEmWm_K8L",
        "outputId": "470985d0-1a19-4e02-8968-0a478b71281b"
      },
      "execution_count": 26,
      "outputs": [
        {
          "output_type": "execute_result",
          "data": {
            "text/plain": [
              "array([[0.11243489, 0.18211982, 0.0357582 ],\n",
              "       [0.99550492, 0.52014732, 0.82495231],\n",
              "       [0.80978037, 0.76606401, 0.77608561]])"
            ]
          },
          "metadata": {},
          "execution_count": 26
        }
      ]
    },
    {
      "cell_type": "code",
      "source": [
        "np.random.random((3,3))"
      ],
      "metadata": {
        "colab": {
          "base_uri": "https://localhost:8080/"
        },
        "id": "pQvItfuG_YBD",
        "outputId": "714a3b05-aa61-45ba-ae75-1b46a4c72d9d"
      },
      "execution_count": 27,
      "outputs": [
        {
          "output_type": "execute_result",
          "data": {
            "text/plain": [
              "array([[0.93145476, 0.29595108, 0.85351513],\n",
              "       [0.28003738, 0.92473162, 0.22079262],\n",
              "       [0.10283949, 0.79139398, 0.66288511]])"
            ]
          },
          "metadata": {},
          "execution_count": 27
        }
      ]
    },
    {
      "cell_type": "code",
      "source": [
        "if np.random.random() > 0.5:\n",
        "  print(\"Run the function\")\n",
        "else:\n",
        "  print(\"Don't run the function \")\n"
      ],
      "metadata": {
        "colab": {
          "base_uri": "https://localhost:8080/"
        },
        "id": "VgTvlBwf_xHy",
        "outputId": "5228a8b6-0f22-458f-9279-174dd37237b1"
      },
      "execution_count": 28,
      "outputs": [
        {
          "output_type": "stream",
          "name": "stdout",
          "text": [
            "Don't run the function \n"
          ]
        }
      ]
    },
    {
      "cell_type": "code",
      "source": [
        "np.arange(1,10,1)"
      ],
      "metadata": {
        "colab": {
          "base_uri": "https://localhost:8080/"
        },
        "id": "VKs1akORALxg",
        "outputId": "35689c4d-9d34-48be-a910-fa06053679e9"
      },
      "execution_count": 29,
      "outputs": [
        {
          "output_type": "execute_result",
          "data": {
            "text/plain": [
              "array([1, 2, 3, 4, 5, 6, 7, 8, 9])"
            ]
          },
          "metadata": {},
          "execution_count": 29
        }
      ]
    },
    {
      "cell_type": "code",
      "source": [
        "np.linspace(1,10,10)"
      ],
      "metadata": {
        "colab": {
          "base_uri": "https://localhost:8080/"
        },
        "id": "7P8ao05OAQO-",
        "outputId": "34cdcaba-4bf4-4a01-d3f2-2949a394ba29"
      },
      "execution_count": 30,
      "outputs": [
        {
          "output_type": "execute_result",
          "data": {
            "text/plain": [
              "array([ 1.,  2.,  3.,  4.,  5.,  6.,  7.,  8.,  9., 10.])"
            ]
          },
          "metadata": {},
          "execution_count": 30
        }
      ]
    },
    {
      "cell_type": "code",
      "source": [
        "np.linspace(1,7,10)"
      ],
      "metadata": {
        "colab": {
          "base_uri": "https://localhost:8080/"
        },
        "id": "1PoukmrnAbSV",
        "outputId": "27bb1435-23a3-4369-cbae-9bbec2ae4714"
      },
      "execution_count": 31,
      "outputs": [
        {
          "output_type": "execute_result",
          "data": {
            "text/plain": [
              "array([1.        , 1.66666667, 2.33333333, 3.        , 3.66666667,\n",
              "       4.33333333, 5.        , 5.66666667, 6.33333333, 7.        ])"
            ]
          },
          "metadata": {},
          "execution_count": 31
        }
      ]
    },
    {
      "cell_type": "code",
      "source": [
        "arr = np.random.random((4,3))\n",
        "arr"
      ],
      "metadata": {
        "colab": {
          "base_uri": "https://localhost:8080/"
        },
        "id": "Kymu_GVGAssO",
        "outputId": "ca770239-3b30-449d-dd2d-f261b585559b"
      },
      "execution_count": 34,
      "outputs": [
        {
          "output_type": "execute_result",
          "data": {
            "text/plain": [
              "array([[0.98502697, 0.36895527, 0.51141099],\n",
              "       [0.74081599, 0.24685389, 0.6615342 ],\n",
              "       [0.24043535, 0.29418725, 0.15746477],\n",
              "       [0.97531813, 0.61469407, 0.40573485]])"
            ]
          },
          "metadata": {},
          "execution_count": 34
        }
      ]
    },
    {
      "cell_type": "code",
      "source": [
        "np.reshape(arr, (3,4))"
      ],
      "metadata": {
        "colab": {
          "base_uri": "https://localhost:8080/"
        },
        "id": "9xleNKQRA8kY",
        "outputId": "c5565cc0-74e4-45e1-dfa7-8057778f6cfb"
      },
      "execution_count": 35,
      "outputs": [
        {
          "output_type": "execute_result",
          "data": {
            "text/plain": [
              "array([[0.98502697, 0.36895527, 0.51141099, 0.74081599],\n",
              "       [0.24685389, 0.6615342 , 0.24043535, 0.29418725],\n",
              "       [0.15746477, 0.97531813, 0.61469407, 0.40573485]])"
            ]
          },
          "metadata": {},
          "execution_count": 35
        }
      ]
    },
    {
      "cell_type": "code",
      "source": [
        "arr"
      ],
      "metadata": {
        "colab": {
          "base_uri": "https://localhost:8080/"
        },
        "id": "ORmJuhmBBGdv",
        "outputId": "f5f43d52-81c0-4f64-f8a3-e4655f05f186"
      },
      "execution_count": 36,
      "outputs": [
        {
          "output_type": "execute_result",
          "data": {
            "text/plain": [
              "array([[0.98502697, 0.36895527, 0.51141099],\n",
              "       [0.74081599, 0.24685389, 0.6615342 ],\n",
              "       [0.24043535, 0.29418725, 0.15746477],\n",
              "       [0.97531813, 0.61469407, 0.40573485]])"
            ]
          },
          "metadata": {},
          "execution_count": 36
        }
      ]
    },
    {
      "cell_type": "code",
      "source": [
        "arr = np.reshape(arr , (6,2))\n",
        "arr"
      ],
      "metadata": {
        "colab": {
          "base_uri": "https://localhost:8080/"
        },
        "id": "LF93LkErBQug",
        "outputId": "781f58f9-26ea-4003-ce17-e66bd31f3193"
      },
      "execution_count": 38,
      "outputs": [
        {
          "output_type": "execute_result",
          "data": {
            "text/plain": [
              "array([[0.98502697, 0.36895527],\n",
              "       [0.51141099, 0.74081599],\n",
              "       [0.24685389, 0.6615342 ],\n",
              "       [0.24043535, 0.29418725],\n",
              "       [0.15746477, 0.97531813],\n",
              "       [0.61469407, 0.40573485]])"
            ]
          },
          "metadata": {},
          "execution_count": 38
        }
      ]
    },
    {
      "cell_type": "code",
      "source": [
        "arr.flatten()"
      ],
      "metadata": {
        "colab": {
          "base_uri": "https://localhost:8080/"
        },
        "id": "OuV_CYe1Bg_h",
        "outputId": "f6455f26-3a31-4d2f-ea78-bdb88680ee18"
      },
      "execution_count": 39,
      "outputs": [
        {
          "output_type": "execute_result",
          "data": {
            "text/plain": [
              "array([0.98502697, 0.36895527, 0.51141099, 0.74081599, 0.24685389,\n",
              "       0.6615342 , 0.24043535, 0.29418725, 0.15746477, 0.97531813,\n",
              "       0.61469407, 0.40573485])"
            ]
          },
          "metadata": {},
          "execution_count": 39
        }
      ]
    },
    {
      "cell_type": "markdown",
      "source": [
        "Arithmetic Operations on Array"
      ],
      "metadata": {
        "id": "siIWETUgBvec"
      }
    },
    {
      "cell_type": "code",
      "source": [
        "import numpy as np"
      ],
      "metadata": {
        "id": "gjWGUGmjB1-w"
      },
      "execution_count": 40,
      "outputs": []
    },
    {
      "cell_type": "code",
      "source": [
        "arr = np.array([1,3, 4, 5, 7, 8])"
      ],
      "metadata": {
        "id": "DdInNWQABoSY"
      },
      "execution_count": 41,
      "outputs": []
    },
    {
      "cell_type": "code",
      "source": [
        "arr"
      ],
      "metadata": {
        "colab": {
          "base_uri": "https://localhost:8080/"
        },
        "id": "PSZ6h-rMCLfN",
        "outputId": "35e5e47d-3c00-4dbd-9562-23ee5531d4bb"
      },
      "execution_count": 42,
      "outputs": [
        {
          "output_type": "execute_result",
          "data": {
            "text/plain": [
              "array([1, 3, 4, 5, 7, 8])"
            ]
          },
          "metadata": {},
          "execution_count": 42
        }
      ]
    },
    {
      "cell_type": "code",
      "source": [
        "arr + 1"
      ],
      "metadata": {
        "colab": {
          "base_uri": "https://localhost:8080/"
        },
        "id": "2nIfmmuyCTHE",
        "outputId": "a6bfd84b-e322-4639-fd6c-5f9945e70a17"
      },
      "execution_count": 43,
      "outputs": [
        {
          "output_type": "execute_result",
          "data": {
            "text/plain": [
              "array([2, 4, 5, 6, 8, 9])"
            ]
          },
          "metadata": {},
          "execution_count": 43
        }
      ]
    },
    {
      "cell_type": "code",
      "source": [
        "arr * 5"
      ],
      "metadata": {
        "colab": {
          "base_uri": "https://localhost:8080/"
        },
        "id": "CRKXjxnyCYqz",
        "outputId": "3a894d0e-f2d1-48b3-b0fb-033c02c8889c"
      },
      "execution_count": 44,
      "outputs": [
        {
          "output_type": "execute_result",
          "data": {
            "text/plain": [
              "array([ 5, 15, 20, 25, 35, 40])"
            ]
          },
          "metadata": {},
          "execution_count": 44
        }
      ]
    },
    {
      "cell_type": "code",
      "source": [
        "print(arr+1)\n",
        "print(arr-1)\n",
        "print(arr*1)\n",
        "print(arr/1)\n",
        "print(arr % 1)\n"
      ],
      "metadata": {
        "colab": {
          "base_uri": "https://localhost:8080/"
        },
        "id": "wm1vZPYECesC",
        "outputId": "2e30a23e-fef1-4d60-aca3-cea4b14c9fb9"
      },
      "execution_count": 45,
      "outputs": [
        {
          "output_type": "stream",
          "name": "stdout",
          "text": [
            "[2 4 5 6 8 9]\n",
            "[0 2 3 4 6 7]\n",
            "[1 3 4 5 7 8]\n",
            "[1. 3. 4. 5. 7. 8.]\n",
            "[0 0 0 0 0 0]\n"
          ]
        }
      ]
    },
    {
      "cell_type": "code",
      "source": [
        "arr"
      ],
      "metadata": {
        "colab": {
          "base_uri": "https://localhost:8080/"
        },
        "id": "BKxFNNu2C9Lp",
        "outputId": "fc27294e-5db0-496d-8f70-80d6bd99648b"
      },
      "execution_count": 46,
      "outputs": [
        {
          "output_type": "execute_result",
          "data": {
            "text/plain": [
              "array([1, 3, 4, 5, 7, 8])"
            ]
          },
          "metadata": {},
          "execution_count": 46
        }
      ]
    },
    {
      "cell_type": "code",
      "source": [
        "arr = arr + 1"
      ],
      "metadata": {
        "id": "MfSZhW3kC_CG"
      },
      "execution_count": 47,
      "outputs": []
    },
    {
      "cell_type": "code",
      "source": [
        "arr"
      ],
      "metadata": {
        "colab": {
          "base_uri": "https://localhost:8080/"
        },
        "id": "-Swgz0s-DC2s",
        "outputId": "2e6ec3cc-359b-49f6-eb60-2c80cf467f5d"
      },
      "execution_count": 48,
      "outputs": [
        {
          "output_type": "execute_result",
          "data": {
            "text/plain": [
              "array([2, 4, 5, 6, 8, 9])"
            ]
          },
          "metadata": {},
          "execution_count": 48
        }
      ]
    },
    {
      "cell_type": "code",
      "source": [
        "arr += 1"
      ],
      "metadata": {
        "id": "yZGTsSPODIIm"
      },
      "execution_count": 49,
      "outputs": []
    },
    {
      "cell_type": "code",
      "source": [
        "arr"
      ],
      "metadata": {
        "colab": {
          "base_uri": "https://localhost:8080/"
        },
        "id": "1C8BVa0SDLWB",
        "outputId": "4a3d503a-d09e-4844-9c2f-d1f0d41110ef"
      },
      "execution_count": 50,
      "outputs": [
        {
          "output_type": "execute_result",
          "data": {
            "text/plain": [
              "array([ 3,  5,  6,  7,  9, 10])"
            ]
          },
          "metadata": {},
          "execution_count": 50
        }
      ]
    },
    {
      "cell_type": "code",
      "source": [
        "arr =+ 1\n",
        "arr"
      ],
      "metadata": {
        "colab": {
          "base_uri": "https://localhost:8080/"
        },
        "id": "nrCIqrHrDOUj",
        "outputId": "8bd64dbb-0730-4d62-c32b-313da45690b6"
      },
      "execution_count": 52,
      "outputs": [
        {
          "output_type": "execute_result",
          "data": {
            "text/plain": [
              "1"
            ]
          },
          "metadata": {},
          "execution_count": 52
        }
      ]
    },
    {
      "cell_type": "code",
      "source": [
        "arr*=2"
      ],
      "metadata": {
        "id": "WSb1Aa3oDaIG"
      },
      "execution_count": 53,
      "outputs": []
    },
    {
      "cell_type": "code",
      "source": [
        "arr"
      ],
      "metadata": {
        "colab": {
          "base_uri": "https://localhost:8080/"
        },
        "id": "cp624HV9DdNT",
        "outputId": "5c7157b6-ddb4-4920-d1de-2bc26944d42e"
      },
      "execution_count": 54,
      "outputs": [
        {
          "output_type": "execute_result",
          "data": {
            "text/plain": [
              "2"
            ]
          },
          "metadata": {},
          "execution_count": 54
        }
      ]
    },
    {
      "cell_type": "markdown",
      "source": [
        "Arithmetic Operations on Multiple Arrays"
      ],
      "metadata": {
        "id": "zPzpKXE0EGhK"
      }
    },
    {
      "cell_type": "code",
      "source": [
        "import numpy as np"
      ],
      "metadata": {
        "id": "kQxfnI_XEHlR"
      },
      "execution_count": 55,
      "outputs": []
    },
    {
      "cell_type": "code",
      "source": [
        "arr1 = np.array([[1,2,3],\n",
        "               [4,5,6],\n",
        "               [7,8,9]])\n",
        "\n",
        "arr2 = np.array([[9,8,7],\n",
        "               [6,5,4],\n",
        "               [3,2,1]])\n",
        "\n",
        "arr3 = np.array([[9,8,7,5],\n",
        "               [6,5,4,2],\n",
        "               [3,2,1,5]])\n",
        ""
      ],
      "metadata": {
        "id": "-z7XBlY6EN-5"
      },
      "execution_count": 56,
      "outputs": []
    },
    {
      "cell_type": "code",
      "source": [
        "arr1"
      ],
      "metadata": {
        "colab": {
          "base_uri": "https://localhost:8080/"
        },
        "id": "b5mRxrk3ET9C",
        "outputId": "6cdff0c8-5054-4ea1-bcfc-bf735e773daf"
      },
      "execution_count": 57,
      "outputs": [
        {
          "output_type": "execute_result",
          "data": {
            "text/plain": [
              "array([[1, 2, 3],\n",
              "       [4, 5, 6],\n",
              "       [7, 8, 9]])"
            ]
          },
          "metadata": {},
          "execution_count": 57
        }
      ]
    },
    {
      "cell_type": "code",
      "source": [
        "arr2"
      ],
      "metadata": {
        "colab": {
          "base_uri": "https://localhost:8080/"
        },
        "id": "K3Ti35qNEWuD",
        "outputId": "ffef8a5f-59b1-4138-dd7e-8a1dbb6411e5"
      },
      "execution_count": 58,
      "outputs": [
        {
          "output_type": "execute_result",
          "data": {
            "text/plain": [
              "array([[9, 8, 7],\n",
              "       [6, 5, 4],\n",
              "       [3, 2, 1]])"
            ]
          },
          "metadata": {},
          "execution_count": 58
        }
      ]
    },
    {
      "cell_type": "code",
      "source": [
        "arr1 + arr2"
      ],
      "metadata": {
        "colab": {
          "base_uri": "https://localhost:8080/"
        },
        "id": "HlOvlxYlEY5f",
        "outputId": "d84f8e9f-0f08-4bc2-e82a-dc51019de259"
      },
      "execution_count": 59,
      "outputs": [
        {
          "output_type": "execute_result",
          "data": {
            "text/plain": [
              "array([[10, 10, 10],\n",
              "       [10, 10, 10],\n",
              "       [10, 10, 10]])"
            ]
          },
          "metadata": {},
          "execution_count": 59
        }
      ]
    },
    {
      "cell_type": "code",
      "source": [
        "arr2*arr1"
      ],
      "metadata": {
        "colab": {
          "base_uri": "https://localhost:8080/"
        },
        "id": "NoGPFd1qEb2H",
        "outputId": "c337701d-a5e9-4e1c-d069-bf940fbc05ac"
      },
      "execution_count": 60,
      "outputs": [
        {
          "output_type": "execute_result",
          "data": {
            "text/plain": [
              "array([[ 9, 16, 21],\n",
              "       [24, 25, 24],\n",
              "       [21, 16,  9]])"
            ]
          },
          "metadata": {},
          "execution_count": 60
        }
      ]
    },
    {
      "cell_type": "code",
      "source": [
        "arr1"
      ],
      "metadata": {
        "colab": {
          "base_uri": "https://localhost:8080/"
        },
        "id": "91lakV-nEnom",
        "outputId": "f85ecf0e-d822-40a0-9fac-8e1f10c6eba5"
      },
      "execution_count": 61,
      "outputs": [
        {
          "output_type": "execute_result",
          "data": {
            "text/plain": [
              "array([[1, 2, 3],\n",
              "       [4, 5, 6],\n",
              "       [7, 8, 9]])"
            ]
          },
          "metadata": {},
          "execution_count": 61
        }
      ]
    },
    {
      "cell_type": "code",
      "source": [
        "arr2"
      ],
      "metadata": {
        "colab": {
          "base_uri": "https://localhost:8080/"
        },
        "id": "kXH5ZoeTEpvw",
        "outputId": "2498c92d-acd2-4ec8-ee42-65b944dfc747"
      },
      "execution_count": 62,
      "outputs": [
        {
          "output_type": "execute_result",
          "data": {
            "text/plain": [
              "array([[9, 8, 7],\n",
              "       [6, 5, 4],\n",
              "       [3, 2, 1]])"
            ]
          },
          "metadata": {},
          "execution_count": 62
        }
      ]
    },
    {
      "cell_type": "code",
      "source": [
        "(1*9) + (2*6) + (3*3)"
      ],
      "metadata": {
        "colab": {
          "base_uri": "https://localhost:8080/"
        },
        "id": "c4-afoUeEr6U",
        "outputId": "415288f9-b550-47dc-c09a-16ba4be00879"
      },
      "execution_count": 63,
      "outputs": [
        {
          "output_type": "execute_result",
          "data": {
            "text/plain": [
              "30"
            ]
          },
          "metadata": {},
          "execution_count": 63
        }
      ]
    },
    {
      "cell_type": "code",
      "source": [
        "arr1.dot(arr2)"
      ],
      "metadata": {
        "colab": {
          "base_uri": "https://localhost:8080/"
        },
        "id": "mwuYn55xEx9t",
        "outputId": "b8edf090-0ffd-4678-b7e8-3772bf0197c0"
      },
      "execution_count": 64,
      "outputs": [
        {
          "output_type": "execute_result",
          "data": {
            "text/plain": [
              "array([[ 30,  24,  18],\n",
              "       [ 84,  69,  54],\n",
              "       [138, 114,  90]])"
            ]
          },
          "metadata": {},
          "execution_count": 64
        }
      ]
    },
    {
      "cell_type": "code",
      "source": [
        "arr2.dot(arr1)"
      ],
      "metadata": {
        "colab": {
          "base_uri": "https://localhost:8080/"
        },
        "id": "NrjEKhybE2XL",
        "outputId": "86877726-ee6c-4493-d59a-922ac5f8d298"
      },
      "execution_count": 65,
      "outputs": [
        {
          "output_type": "execute_result",
          "data": {
            "text/plain": [
              "array([[ 90, 114, 138],\n",
              "       [ 54,  69,  84],\n",
              "       [ 18,  24,  30]])"
            ]
          },
          "metadata": {},
          "execution_count": 65
        }
      ]
    },
    {
      "cell_type": "code",
      "source": [
        "arr1"
      ],
      "metadata": {
        "colab": {
          "base_uri": "https://localhost:8080/"
        },
        "id": "Nz1PTesSE4k4",
        "outputId": "32f3859e-f0d2-4e2e-f6ec-b9abd0476294"
      },
      "execution_count": 66,
      "outputs": [
        {
          "output_type": "execute_result",
          "data": {
            "text/plain": [
              "array([[1, 2, 3],\n",
              "       [4, 5, 6],\n",
              "       [7, 8, 9]])"
            ]
          },
          "metadata": {},
          "execution_count": 66
        }
      ]
    },
    {
      "cell_type": "code",
      "source": [
        "\n",
        "arr = np.array([1,2,3,4,5])"
      ],
      "metadata": {
        "id": "jsCPS2g7E8I2"
      },
      "execution_count": 68,
      "outputs": []
    },
    {
      "cell_type": "code",
      "source": [
        "arr[:-2]"
      ],
      "metadata": {
        "colab": {
          "base_uri": "https://localhost:8080/"
        },
        "id": "OKZpU5VyE_ch",
        "outputId": "09559dc8-3658-487a-a01b-ad43e2e825db"
      },
      "execution_count": 69,
      "outputs": [
        {
          "output_type": "execute_result",
          "data": {
            "text/plain": [
              "array([1, 2, 3])"
            ]
          },
          "metadata": {},
          "execution_count": 69
        }
      ]
    },
    {
      "cell_type": "code",
      "source": [
        "arr1"
      ],
      "metadata": {
        "colab": {
          "base_uri": "https://localhost:8080/"
        },
        "id": "V4z2ctGMFA9k",
        "outputId": "a824570d-9d9c-4466-922d-c445501b1527"
      },
      "execution_count": 70,
      "outputs": [
        {
          "output_type": "execute_result",
          "data": {
            "text/plain": [
              "array([[1, 2, 3],\n",
              "       [4, 5, 6],\n",
              "       [7, 8, 9]])"
            ]
          },
          "metadata": {},
          "execution_count": 70
        }
      ]
    },
    {
      "cell_type": "code",
      "source": [
        "arr1[ 1: , 1 : ]"
      ],
      "metadata": {
        "colab": {
          "base_uri": "https://localhost:8080/"
        },
        "id": "wFeYKRB1FGra",
        "outputId": "a8a82aa7-7d2b-4bce-9040-1bfccc726d24"
      },
      "execution_count": 71,
      "outputs": [
        {
          "output_type": "execute_result",
          "data": {
            "text/plain": [
              "array([[5, 6],\n",
              "       [8, 9]])"
            ]
          },
          "metadata": {},
          "execution_count": 71
        }
      ]
    },
    {
      "cell_type": "markdown",
      "source": [
        "Array Sorting"
      ],
      "metadata": {
        "id": "s6OlIGYTFS90"
      }
    },
    {
      "cell_type": "code",
      "source": [
        "\n",
        "arr = np.array([[7,3,8,6,4], [7,2,9,8,6],[5,4,2,3,1]])\n",
        "arr"
      ],
      "metadata": {
        "colab": {
          "base_uri": "https://localhost:8080/"
        },
        "id": "dHvSPOSPFUQv",
        "outputId": "5a738991-2a2b-4f84-a220-2810ceaec5dc"
      },
      "execution_count": 72,
      "outputs": [
        {
          "output_type": "execute_result",
          "data": {
            "text/plain": [
              "array([[7, 3, 8, 6, 4],\n",
              "       [7, 2, 9, 8, 6],\n",
              "       [5, 4, 2, 3, 1]])"
            ]
          },
          "metadata": {},
          "execution_count": 72
        }
      ]
    },
    {
      "cell_type": "code",
      "source": [
        "np.sort(arr , axis = 1, kind = 'mergesort')"
      ],
      "metadata": {
        "colab": {
          "base_uri": "https://localhost:8080/"
        },
        "id": "8QCGKZwtFyJR",
        "outputId": "63245bf4-5b9c-45c4-984f-7501ae562066"
      },
      "execution_count": 73,
      "outputs": [
        {
          "output_type": "execute_result",
          "data": {
            "text/plain": [
              "array([[3, 4, 6, 7, 8],\n",
              "       [2, 6, 7, 8, 9],\n",
              "       [1, 2, 3, 4, 5]])"
            ]
          },
          "metadata": {},
          "execution_count": 73
        }
      ]
    },
    {
      "cell_type": "code",
      "source": [
        "np.sort(arr , axis = 0, kind = 'mergesort')\n",
        ""
      ],
      "metadata": {
        "colab": {
          "base_uri": "https://localhost:8080/"
        },
        "id": "sim-K0qiF7TI",
        "outputId": "bdd4b7f8-219f-4bf6-9175-7a2a494bff0c"
      },
      "execution_count": 74,
      "outputs": [
        {
          "output_type": "execute_result",
          "data": {
            "text/plain": [
              "array([[5, 2, 2, 3, 1],\n",
              "       [7, 3, 8, 6, 4],\n",
              "       [7, 4, 9, 8, 6]])"
            ]
          },
          "metadata": {},
          "execution_count": 74
        }
      ]
    },
    {
      "cell_type": "code",
      "source": [
        "np.sort(arr , kind = 'mergesort')\n"
      ],
      "metadata": {
        "colab": {
          "base_uri": "https://localhost:8080/"
        },
        "id": "WJViZKdPF9I4",
        "outputId": "5fc2d517-c251-447a-d266-a1c10f74f8a3"
      },
      "execution_count": 75,
      "outputs": [
        {
          "output_type": "execute_result",
          "data": {
            "text/plain": [
              "array([[3, 4, 6, 7, 8],\n",
              "       [2, 6, 7, 8, 9],\n",
              "       [1, 2, 3, 4, 5]])"
            ]
          },
          "metadata": {},
          "execution_count": 75
        }
      ]
    },
    {
      "cell_type": "markdown",
      "source": [
        "Array Merging"
      ],
      "metadata": {
        "id": "HSSGvAsnGWVH"
      }
    },
    {
      "cell_type": "code",
      "source": [
        "arr1 = np.array([[1,2,3,4], [5,6,7,8]])\n",
        "arr2 = np.array([[8,7,6,5], [4,3,2,1]])\n"
      ],
      "metadata": {
        "id": "OGU05NmsGbQr"
      },
      "execution_count": 76,
      "outputs": []
    },
    {
      "cell_type": "code",
      "source": [
        "arr1"
      ],
      "metadata": {
        "colab": {
          "base_uri": "https://localhost:8080/"
        },
        "id": "r2u4ePWcGk0M",
        "outputId": "643474a3-338f-45e4-d452-af081a2c1279"
      },
      "execution_count": 77,
      "outputs": [
        {
          "output_type": "execute_result",
          "data": {
            "text/plain": [
              "array([[1, 2, 3, 4],\n",
              "       [5, 6, 7, 8]])"
            ]
          },
          "metadata": {},
          "execution_count": 77
        }
      ]
    },
    {
      "cell_type": "code",
      "source": [
        "arr2"
      ],
      "metadata": {
        "colab": {
          "base_uri": "https://localhost:8080/"
        },
        "id": "dzfptEi9GmxB",
        "outputId": "61e7398b-082b-4bd5-8d85-36d9cafe7f9c"
      },
      "execution_count": 78,
      "outputs": [
        {
          "output_type": "execute_result",
          "data": {
            "text/plain": [
              "array([[8, 7, 6, 5],\n",
              "       [4, 3, 2, 1]])"
            ]
          },
          "metadata": {},
          "execution_count": 78
        }
      ]
    },
    {
      "cell_type": "code",
      "source": [
        "\n",
        "np.vstack((arr1,arr2))"
      ],
      "metadata": {
        "colab": {
          "base_uri": "https://localhost:8080/"
        },
        "id": "eoMDRLNpGpCg",
        "outputId": "952a4213-fa32-4af1-8656-fb298ed5dca1"
      },
      "execution_count": 79,
      "outputs": [
        {
          "output_type": "execute_result",
          "data": {
            "text/plain": [
              "array([[1, 2, 3, 4],\n",
              "       [5, 6, 7, 8],\n",
              "       [8, 7, 6, 5],\n",
              "       [4, 3, 2, 1]])"
            ]
          },
          "metadata": {},
          "execution_count": 79
        }
      ]
    },
    {
      "cell_type": "code",
      "source": [
        "\n",
        "np.hstack((arr1,arr2))\n"
      ],
      "metadata": {
        "colab": {
          "base_uri": "https://localhost:8080/"
        },
        "id": "t8ujozRAGugp",
        "outputId": "5f1a7022-db4f-4511-adb7-54e0b2ad67a0"
      },
      "execution_count": 80,
      "outputs": [
        {
          "output_type": "execute_result",
          "data": {
            "text/plain": [
              "array([[1, 2, 3, 4, 8, 7, 6, 5],\n",
              "       [5, 6, 7, 8, 4, 3, 2, 1]])"
            ]
          },
          "metadata": {},
          "execution_count": 80
        }
      ]
    },
    {
      "cell_type": "code",
      "source": [
        "np.hstack((arr2,arr1))"
      ],
      "metadata": {
        "colab": {
          "base_uri": "https://localhost:8080/"
        },
        "id": "_16zrAHoGyp-",
        "outputId": "1c09eac2-757a-4501-cbed-0d70cb54fa4a"
      },
      "execution_count": 81,
      "outputs": [
        {
          "output_type": "execute_result",
          "data": {
            "text/plain": [
              "array([[8, 7, 6, 5, 1, 2, 3, 4],\n",
              "       [4, 3, 2, 1, 5, 6, 7, 8]])"
            ]
          },
          "metadata": {},
          "execution_count": 81
        }
      ]
    },
    {
      "cell_type": "code",
      "source": [
        "arr = np.concatenate((arr1,arr2), axis = 0)\n"
      ],
      "metadata": {
        "id": "Gq_lWUt4G2uD"
      },
      "execution_count": 82,
      "outputs": []
    },
    {
      "cell_type": "code",
      "source": [
        "np.concatenate((arr1,arr2), axis = 1)\n"
      ],
      "metadata": {
        "colab": {
          "base_uri": "https://localhost:8080/"
        },
        "id": "zL5lCsOVG5ii",
        "outputId": "d915494b-ac60-4e9e-df29-019dbac0d51c"
      },
      "execution_count": 83,
      "outputs": [
        {
          "output_type": "execute_result",
          "data": {
            "text/plain": [
              "array([[1, 2, 3, 4, 8, 7, 6, 5],\n",
              "       [5, 6, 7, 8, 4, 3, 2, 1]])"
            ]
          },
          "metadata": {},
          "execution_count": 83
        }
      ]
    },
    {
      "cell_type": "code",
      "source": [
        "arr"
      ],
      "metadata": {
        "colab": {
          "base_uri": "https://localhost:8080/"
        },
        "id": "2WRVfHVxG7Zl",
        "outputId": "0a791162-1726-47f9-ff0d-5844aa22e08b"
      },
      "execution_count": 84,
      "outputs": [
        {
          "output_type": "execute_result",
          "data": {
            "text/plain": [
              "array([[1, 2, 3, 4],\n",
              "       [5, 6, 7, 8],\n",
              "       [8, 7, 6, 5],\n",
              "       [4, 3, 2, 1]])"
            ]
          },
          "metadata": {},
          "execution_count": 84
        }
      ]
    },
    {
      "cell_type": "code",
      "source": [
        "np.hsplit(arr, 2)"
      ],
      "metadata": {
        "colab": {
          "base_uri": "https://localhost:8080/"
        },
        "id": "4DYZ7_XBHARm",
        "outputId": "2e7c271b-3e3b-4ec2-c5c8-ed35cd7d7ab9"
      },
      "execution_count": 85,
      "outputs": [
        {
          "output_type": "execute_result",
          "data": {
            "text/plain": [
              "[array([[1, 2],\n",
              "        [5, 6],\n",
              "        [8, 7],\n",
              "        [4, 3]]),\n",
              " array([[3, 4],\n",
              "        [7, 8],\n",
              "        [6, 5],\n",
              "        [2, 1]])]"
            ]
          },
          "metadata": {},
          "execution_count": 85
        }
      ]
    },
    {
      "cell_type": "code",
      "source": [
        "np.vsplit(arr, 2)\n"
      ],
      "metadata": {
        "colab": {
          "base_uri": "https://localhost:8080/"
        },
        "id": "yYPRGrHvHItH",
        "outputId": "5101176d-7fae-498f-9797-bb0da7c860bb"
      },
      "execution_count": 86,
      "outputs": [
        {
          "output_type": "execute_result",
          "data": {
            "text/plain": [
              "[array([[1, 2, 3, 4],\n",
              "        [5, 6, 7, 8]]),\n",
              " array([[8, 7, 6, 5],\n",
              "        [4, 3, 2, 1]])]"
            ]
          },
          "metadata": {},
          "execution_count": 86
        }
      ]
    },
    {
      "cell_type": "markdown",
      "source": [
        "Array Slicing - DAP"
      ],
      "metadata": {
        "id": "GJDjondcHRvc"
      }
    },
    {
      "cell_type": "code",
      "source": [
        "\n",
        "arr = np.array([1,2,3,4,5,6,7,8])"
      ],
      "metadata": {
        "id": "NXMYSsyHHXbW"
      },
      "execution_count": 87,
      "outputs": []
    },
    {
      "cell_type": "code",
      "source": [
        "arr"
      ],
      "metadata": {
        "colab": {
          "base_uri": "https://localhost:8080/"
        },
        "id": "w6_lw_BsH7u9",
        "outputId": "9d94818e-db50-4020-d777-1a43cd6ecca0"
      },
      "execution_count": 88,
      "outputs": [
        {
          "output_type": "execute_result",
          "data": {
            "text/plain": [
              "array([1, 2, 3, 4, 5, 6, 7, 8])"
            ]
          },
          "metadata": {},
          "execution_count": 88
        }
      ]
    },
    {
      "cell_type": "code",
      "source": [
        "arr[3: ]"
      ],
      "metadata": {
        "colab": {
          "base_uri": "https://localhost:8080/"
        },
        "id": "YhrM_ZJIH-oY",
        "outputId": "8f83eba8-57bb-40b2-8c1d-a4a6ededd598"
      },
      "execution_count": 89,
      "outputs": [
        {
          "output_type": "execute_result",
          "data": {
            "text/plain": [
              "array([4, 5, 6, 7, 8])"
            ]
          },
          "metadata": {},
          "execution_count": 89
        }
      ]
    },
    {
      "cell_type": "code",
      "source": [
        "arr[ : -3]\n"
      ],
      "metadata": {
        "colab": {
          "base_uri": "https://localhost:8080/"
        },
        "id": "ZO2NeIiFIB8P",
        "outputId": "7b67565f-47cb-4bc1-9dad-4ada65ec6edf"
      },
      "execution_count": 90,
      "outputs": [
        {
          "output_type": "execute_result",
          "data": {
            "text/plain": [
              "array([1, 2, 3, 4, 5])"
            ]
          },
          "metadata": {},
          "execution_count": 90
        }
      ]
    },
    {
      "cell_type": "code",
      "source": [
        "arr[3  :  -3]\n"
      ],
      "metadata": {
        "colab": {
          "base_uri": "https://localhost:8080/"
        },
        "id": "oBB9NL_SIEc-",
        "outputId": "910b0763-970c-4fa2-b2bb-300adbd0fc43"
      },
      "execution_count": 91,
      "outputs": [
        {
          "output_type": "execute_result",
          "data": {
            "text/plain": [
              "array([4, 5])"
            ]
          },
          "metadata": {},
          "execution_count": 91
        }
      ]
    },
    {
      "cell_type": "code",
      "source": [
        "\n",
        "arr = np.array([[1,2,3,4],[5,6,7,8],[8,7,6,5],[4,3,2,1]])"
      ],
      "metadata": {
        "id": "IH7cakjYIHjQ"
      },
      "execution_count": 92,
      "outputs": []
    },
    {
      "cell_type": "code",
      "source": [
        "arr"
      ],
      "metadata": {
        "colab": {
          "base_uri": "https://localhost:8080/"
        },
        "id": "ngQXHo1bINjj",
        "outputId": "c5a69a65-4857-4f18-db79-87531ac3c2ba"
      },
      "execution_count": 93,
      "outputs": [
        {
          "output_type": "execute_result",
          "data": {
            "text/plain": [
              "array([[1, 2, 3, 4],\n",
              "       [5, 6, 7, 8],\n",
              "       [8, 7, 6, 5],\n",
              "       [4, 3, 2, 1]])"
            ]
          },
          "metadata": {},
          "execution_count": 93
        }
      ]
    },
    {
      "cell_type": "code",
      "source": [
        "arr[ 3 , 1]"
      ],
      "metadata": {
        "colab": {
          "base_uri": "https://localhost:8080/"
        },
        "id": "9xU973UNIQfT",
        "outputId": "84f0114f-a4bd-4bac-b3c2-6fbf8482a214"
      },
      "execution_count": 94,
      "outputs": [
        {
          "output_type": "execute_result",
          "data": {
            "text/plain": [
              "3"
            ]
          },
          "metadata": {},
          "execution_count": 94
        }
      ]
    },
    {
      "cell_type": "code",
      "source": [
        "arr[ 1: , 1:]\n"
      ],
      "metadata": {
        "colab": {
          "base_uri": "https://localhost:8080/"
        },
        "id": "JOtPu2cqIT5e",
        "outputId": "9e2f5a46-fdde-4e1d-e7dc-0f31e6fdea1b"
      },
      "execution_count": 95,
      "outputs": [
        {
          "output_type": "execute_result",
          "data": {
            "text/plain": [
              "array([[6, 7, 8],\n",
              "       [7, 6, 5],\n",
              "       [3, 2, 1]])"
            ]
          },
          "metadata": {},
          "execution_count": 95
        }
      ]
    },
    {
      "cell_type": "markdown",
      "source": [
        "Automating using Numpy"
      ],
      "metadata": {
        "id": "VKwiI8fsJCfx"
      }
    },
    {
      "cell_type": "code",
      "source": [
        "lst = [1,2,3,4,5,6,7,8,9,10]"
      ],
      "metadata": {
        "id": "SYpXqEteJG6D"
      },
      "execution_count": 96,
      "outputs": []
    },
    {
      "cell_type": "code",
      "source": [
        "\n",
        "q = 0\n",
        "\n",
        "for i in lst:\n",
        "  if (i > 5):\n",
        "    print(i)\n",
        "    q += 1\n",
        "\n",
        "print(q)"
      ],
      "metadata": {
        "colab": {
          "base_uri": "https://localhost:8080/"
        },
        "id": "dDmzuZ3tJMUl",
        "outputId": "70fd7855-3d4d-4af2-804c-8b65b59b1e1b"
      },
      "execution_count": 97,
      "outputs": [
        {
          "output_type": "stream",
          "name": "stdout",
          "text": [
            "6\n",
            "7\n",
            "8\n",
            "9\n",
            "10\n",
            "5\n"
          ]
        }
      ]
    },
    {
      "cell_type": "code",
      "source": [
        "lst = np.array([1,2,3,4,5,6,7,8,9,10])\n"
      ],
      "metadata": {
        "id": "BKIxcw0QJPgh"
      },
      "execution_count": 99,
      "outputs": []
    },
    {
      "cell_type": "code",
      "source": [
        "print(len(lst[lst > 5]))\n",
        "print(lst[lst>5])\n",
        "\n"
      ],
      "metadata": {
        "colab": {
          "base_uri": "https://localhost:8080/"
        },
        "id": "IaziGXUpJWou",
        "outputId": "780f3237-3dec-4ad1-ab88-82dbacaadaa0"
      },
      "execution_count": 100,
      "outputs": [
        {
          "output_type": "stream",
          "name": "stdout",
          "text": [
            "5\n",
            "[ 6  7  8  9 10]\n"
          ]
        }
      ]
    },
    {
      "cell_type": "code",
      "source": [
        "\n",
        "print(len(lst[lst % 3 == 0]))\n",
        "print(lst[lst % 3 == 0])\n"
      ],
      "metadata": {
        "colab": {
          "base_uri": "https://localhost:8080/"
        },
        "id": "_w2qPSLOJZuB",
        "outputId": "17c53715-6109-4e8f-e612-ae7a4142a6b5"
      },
      "execution_count": 101,
      "outputs": [
        {
          "output_type": "stream",
          "name": "stdout",
          "text": [
            "3\n",
            "[3 6 9]\n"
          ]
        }
      ]
    }
  ]
}